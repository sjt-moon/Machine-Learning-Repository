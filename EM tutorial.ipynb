{
 "cells": [
  {
   "cell_type": "markdown",
   "metadata": {},
   "source": [
    "Everybody knows EM algorithm has great capacity dealing with incomplete data. However, there could be more potentials about EM algorithm. The following ideas are a mixture from courses at CMU and UW.  \n",
    "**Background**  \n",
    "Maximum likelihood estimator is an extremely useful tool for estimating parameters. Basically, the form of **MLE** is like this:  \n",
    "$$\\hat{\\theta} = arg\\underset{\\theta}max \\log p(y|\\theta)$$\n",
    "However, sometimes it could be really difficult to solve this problem. Namely, if there are some sums inside the $\\log$ function. EM algorithm is kind of method to approximate the optimum using iterations. To understand, say, we have observed data $y$ and $\\theta$ is the parameter for modeling, we assume that $y$ is only part of the data from $x$ (complete data). We make a guess about $x$ and solve for the $\\theta$ that maximize the expected log-likelihood of complete data $x$.  \n",
    "**E Step**: calculate $p(x|\\theta^{(i)})$  \n",
    "**M Step**: $\\theta^{(i+1)} = arg\\underset{\\theta}max \\ E_{x|y,\\theta^{(i)}} [\\log p(x|\\theta)]$  \n",
    "The point is, EM algorithm is not limited to models with hidden variables. If some labels are missing for a supervised problem, we could use EM. If all the variables are observed yet hard to solve the optimum, we could assume some complete data and use EM.  \n",
    "  \n",
    "**E.g.**  Toy Selection  \n",
    "You ask $n$ kids to select a toy out of 4 choices. Let $y = [y_1,..,y_4]^{T}$ denote the histogram of their choices where $y_{1}$ represents the number of kids choosing toy 1, etc. For each kid, the probility of choosing a toy is $p = [p_1, p_2, p_3, p_4]$. We model the probilities in this way: $p = [\\frac{1}{2}+\\frac{1}{4}\\theta, \\frac{1}{4}(1-\\theta), \\frac{1}{4}(1-\\theta), \\frac{1}{4}\\theta]$. Thus, for **MLE**,\n",
    "\\begin{align}\n",
    "\\hat{\\theta} &= arg\\underset{\\theta}max \\log \\frac{n!}{y_1!y_2!y_3!y_4!} \\left(\\frac{1}{2}+\\frac{\\theta}{4}\\right)^{y_1} \\left(\\frac{1-\\theta}{4}\\right)^{y_2} \\left(\\frac{1-\\theta}{4}\\right)^{y_3} \\left(\\frac{\\theta}{4}\\right)^{y_4} \\\\ \n",
    "&= y_1 \\log \\left(\\frac{1}{2}+\\frac{\\theta}{4}\\right) + (y_2+y_3) \\log \\left(1-\\theta\\right) + y_4 \\log (\\theta) \\\\  \n",
    "\\end{align}\n",
    "which is not as easily to be solved as basic ones. We have 3 solutions: solve it by your hands, use gradient ascend or EM algorithm.  \n",
    "1. $\\frac{\\partial l(\\theta)}{\\theta}= 0 \\Rightarrow \\theta = 0.791$  \n",
    "2. Gradient ascend: $\\theta^{(i+1)}:=\\theta^{(i)} + \\eta \\frac{\\partial l(\\theta)}{\\theta}$  \n",
    "3. EM algorithm  \n",
    "To use EM, we need to specify what the complete data $x$ is. We wanna have such a $x$ that the probility mass function only has $\\log \\theta$ and $\\log (1-\\theta)$. The only problem lies in $y_1$, where the problility of choosing $y_1$ is not the form we like. However, if we assume $y = [x_1+x_2, x_3, x_4, x_5]^{T}$, we could get: \n",
    "\\begin{equation}\n",
    "P(x|\\theta) = \\frac{n!}{\\prod_{i=1}^{5}x_{i}!} \\left(\\frac{1}{2}\\right)^{x_1} \\left(\\frac{\\theta}{4}\\right)^{x_2+x_5} \\left(\\frac{1-\\theta}{4}\\right)^{x_3+x_4}\n",
    "\\end{equation}\n",
    "Thus, \n",
    "\\begin{align}\n",
    "\\theta^{(i+1)} &= arg\\underset{\\theta}max \\ E_{x|y,\\theta} [\\log p(x|\\theta)] \\\\\n",
    "&= arg\\underset{\\theta}max \\ E_{x|y,\\theta} [(x_2+x_5) \\log\\theta + (x_3+x_4) \\log (1-\\theta)]\n",
    "\\end{align}\n",
    "It's quite straitfoward to get the conditional expected average of $x$, \n",
    "\\begin{equation}\n",
    "E_{x|y,\\theta} = [\\frac{2}{2+\\theta}y_1, \\frac{2}{2+\\theta}y_1, y_2, y_3, y_4]\n",
    "\\end{equation}\n",
    "Thus,\n",
    "\\begin{align}\n",
    "\\theta^{(i+1)} &= arg\\underset{\\theta}max \\left(\\frac{\\theta^{(i)}y_1}{2+\\theta^{(i)}}+y_4\\right) \\log \\theta + (y_2+y_3) \\log (1-\\theta) \\\\\n",
    "&= \\frac{\\frac{\\theta^{(i)}y_1}{2+\\theta^{(i)}}+y_4}{\\frac{\\theta^{(i)}y_1}{2+\\theta^{(i)}}+y_2+y_3+y_4}\\\\\n",
    "\\end{align}\n",
    "We now test their ability of convergence for each algorithms."
   ]
  },
  {
   "cell_type": "code",
   "execution_count": 1,
   "metadata": {
    "collapsed": true
   },
   "outputs": [],
   "source": [
    "import numpy as np\n",
    "import matplotlib.pyplot as plt\n",
    "import seaborn as sns\n",
    "%matplotlib inline"
   ]
  },
  {
   "cell_type": "code",
   "execution_count": 3,
   "metadata": {},
   "outputs": [
    {
     "data": {
      "image/png": "[encoded data removed]",
      "text/plain": [
       "<matplotlib.figure.Figure at 0x11c3e290>"
      ]
     },
     "metadata": {},
     "output_type": "display_data"
    }
   ],
   "source": [
    "def em_estimator(y, theta=0.5, threshold=0.001):\n",
    "    '''EM estimator.\n",
    "    \n",
    "    @param:\n",
    "    y: list, containing 4 ints.\n",
    "    @return:\n",
    "    theta_list: list, theta for each iterations.\n",
    "    '''\n",
    "    theta_list = [theta,]\n",
    "    while True:\n",
    "        tempt = theta*y[0]/(2+theta) + y[3]\n",
    "        new_theta = tempt / (tempt + y[1] + y[2])\n",
    "        if abs(new_theta - theta) < threshold: break\n",
    "        theta = new_theta\n",
    "        theta_list.append(theta)\n",
    "    return theta_list\n",
    "\n",
    "def plot(x, labels=[\"EM\",\"Gradient\"]):\n",
    "    '''Plot every item of x in a single grid.'''\n",
    "    fig, ax = plt.subplots()\n",
    "    for i,item in enumerate(x):\n",
    "        ax.plot(item,'-o',label = labels[i])\n",
    "    ax.legend()\n",
    "    plt.show()\n",
    "\n",
    "def gradient_ascend_estimator(y, step_length=0.01, theta=0.5, threshold=0.001):\n",
    "    theta_list = [theta,]\n",
    "    while True:\n",
    "        gradient = y[0]/(2.0+theta) - (y[1]+y[2])/(1.0-theta) + y[3]/theta\n",
    "        if gradient < threshold: break\n",
    "        theta += step_length * gradient\n",
    "        theta_list.append(theta)\n",
    "    return theta_list\n",
    "\n",
    "# test case, optimum theta is around 0.791\n",
    "y = [2,1,1,7]\n",
    "l1 = em_estimator(y)\n",
    "l2 = gradient_ascend_estimator(y)\n",
    "plot([l1,l2])"
   ]
  },
  {
   "cell_type": "markdown",
   "metadata": {},
   "source": [
    "We could see that, EM algorithm has a better capacity to converge than gradient acsend algorithm. Given y, the optimum $\\theta$ should be 0.79. Both two algorithms converge at this point."
   ]
  },
  {
   "cell_type": "code",
   "execution_count": null,
   "metadata": {
    "collapsed": true
   },
   "outputs": [],
   "source": []
  }
 ],
 "metadata": {
  "kernelspec": {
   "display_name": "Python 2",
   "language": "python",
   "name": "python2"
  },
  "language_info": {
   "codemirror_mode": {
    "name": "ipython",
    "version": 2
   },
   "file_extension": ".py",
   "mimetype": "text/x-python",
   "name": "python",
   "nbconvert_exporter": "python",
   "pygments_lexer": "ipython2",
   "version": "2.7.13"
  }
 },
 "nbformat": 4,
 "nbformat_minor": 2
}
